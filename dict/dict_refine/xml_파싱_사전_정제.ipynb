{
 "cells": [
  {
   "cell_type": "code",
   "execution_count": 1,
   "id": "3dd52fcd",
   "metadata": {},
   "outputs": [
    {
     "name": "stdout",
     "output_type": "stream",
     "text": [
      "<module 'lxml.etree' from '/usr/local/lib/python3.7/dist-packages/lxml/etree.cpython-37m-x86_64-linux-gnu.so'>\n"
     ]
    }
   ],
   "source": [
    "import xmltodict\n",
    "from lxml import etree\n",
    "parser = etree.XMLParser(recover=True)\n",
    "etree.fromstring(\"./stdict/10000.xml\", parser=parser)\n",
    "\n",
    "print(etree)\n",
    "# dict_type = xmltodict.parse(\"./stdict/10000.xml\")"
   ]
  },
  {
   "cell_type": "code",
   "execution_count": 9,
   "id": "83ae1a15",
   "metadata": {},
   "outputs": [
    {
     "name": "stdout",
     "output_type": "stream",
     "text": [
      "<class 'str'> 6719637\n"
     ]
    }
   ],
   "source": [
    "import json\n",
    "import xmltodict\n",
    " \n",
    "with open(\"./stdict/10000.xml\",'r',encoding=\"utf-8\") as f:\n",
    "    xmlString = f.read()\n",
    "\n",
    "jsonString = json.dumps(xmltodict.parse(xmlString,encoding=\"utf-8\"), indent=4,ensure_ascii=False)\n",
    "\n",
    "\n",
    "with open(\"xml_to_json.json\", 'w',encoding=\"UTF-8-sig\") as f:\n",
    "    f.write(jsonString)"
   ]
  },
  {
   "cell_type": "code",
   "execution_count": 10,
   "id": "da3b7819",
   "metadata": {},
   "outputs": [
    {
     "name": "stdout",
     "output_type": "stream",
     "text": [
      "{\n",
      "    \"channel\": {\n",
      "        \"title\": \"사전 검색\",\n",
      "        \"link\": \"https:stdict.korean.go.kr\",\n",
      "        \"description\": \"사전 검색 결과\",\n",
      "        \"lastBuildDate\": \"20200325 11:59:37\",\n",
      "        \"total\": \"434171\",\n",
      "        \"item\": [\n",
      "            {\n",
      "                \"target_code\": \"4602\",\n",
      "                \"word_info\": {\n",
      "                    \"word\": \"각자^수세지\",\n",
      "                    \"word_unit\": \"구\",\n",
      "                    \"word_type\": \"한자어\",\n",
      "                    \"original_language_info\": {\n",
      "                        \"original_language\": \"各自收稅地\",\n",
      "                        \"language_type\": \"한자\"\n",
      "                    },\n",
      "                    \"pos_info\": {\n",
      "                        \"pos\": \"품사 없음\",\n",
      "                        \"comm_pattern_info\": {\n",
      "                            \"sense_info\": {\n",
      "                                \"type\": \"일반어\",\n",
      "                                \"definition\": \"조선 시대에, 국가가 특정한 개인에게 조세 징수권을 넘겨준 토지. 대신 그 개인은 국가에 대한 일정한 의무를 졌다.\",\n",
      "                                \"cat_info\": {\n",
      "                                    \"cat\"\n",
      "<?xml version=\"1.0\" encoding=\"UTF-8\"?>\n",
      "<channel>\n",
      "\t<title>사전 검색</title>\n",
      "\t<link>https:stdict.korean.go.kr</link>\n",
      "\t<description>사전 검색 결과</description>\n",
      "\t<lastBuildDate>20200325 11:59:37</lastBuildDate>\n",
      "\t<total>434171</total>\n",
      "\t<item>\n",
      "\t\t<target_code>4602</target_code>\n",
      "\t\t<word_info>\n",
      "\t\t\t<word><![CDATA[각자^수세지]]></word>\n",
      "\t\t\t<word_unit>구</word_unit>\n",
      "\t\t\t<word_type>한자어</word_type>\n",
      "\t\t\t<original_language_info>\n",
      "\t\t\t\t<original_language><![CDATA[各自收稅地]]></original_language>\n",
      "\t\t\t\t<language_type><![CDATA[한자]]></language_type>\n",
      "\t\t\t</original_language_info>\n",
      "\t\t\t<pos_info>\n",
      "\t\t\t\t<pos>품사 없음</pos>\n",
      "\t\t\t\t<comm_pattern_info>\n",
      "\t\t\t\t\t<sense_info>\n",
      "\t\t\t\t\t\t<type>일반어</type>\n",
      "\t\t\t\t\t\t<definition><![CDATA[조선 시대에, 국가가 특정한 개인에게 조세 징수권을 넘겨준 토지. 대신 그 개인은 국가에 대한 일정한 의무를 졌다.]]></definition>\n",
      "\t\t\t\t\t\t<cat_info>\n",
      "\t\t\t\t\t\t\t<cat>역사</cat>\n",
      "\t\t\t\t\t\t</cat_info>\n",
      "\t\t\t\t\t</sense_info>\n",
      "\t\t\t\t</comm_pattern_info>\n",
      "\t\t\t</pos_info>\n",
      "\t\t</word_info>\n",
      "\t</item>\n",
      "\t<item>\n",
      "\t\t<target_code>4603</target_code>\n",
      "\t\t<word_info>\n",
      "\t\t\t<word><![CDATA[각자-위심]]></word>\n",
      "\t\t\t<word_unit>단어</word_un\n"
     ]
    }
   ],
   "source": []
  },
  {
   "cell_type": "code",
   "execution_count": null,
   "id": "6c1ede36",
   "metadata": {},
   "outputs": [],
   "source": []
  }
 ],
 "metadata": {
  "kernelspec": {
   "display_name": "Python 3",
   "language": "python",
   "name": "python3"
  },
  "language_info": {
   "codemirror_mode": {
    "name": "ipython",
    "version": 3
   },
   "file_extension": ".py",
   "mimetype": "text/x-python",
   "name": "python",
   "nbconvert_exporter": "python",
   "pygments_lexer": "ipython3",
   "version": "3.7.5"
  }
 },
 "nbformat": 4,
 "nbformat_minor": 5
}
