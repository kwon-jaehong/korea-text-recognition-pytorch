{
 "cells": [
  {
   "cell_type": "code",
   "execution_count": 7,
   "id": "3dd52fcd",
   "metadata": {},
   "outputs": [
    {
     "name": "stdout",
     "output_type": "stream",
     "text": [
      "360361\n"
     ]
    }
   ],
   "source": [
    "import xmltodict\n",
    "import re\n",
    "import json\n",
    "import os\n",
    "\n",
    "dir_path = \"../dict/dict_refine/stdict/\"\n",
    "file_name = os.listdir(dir_path)\n",
    "\n",
    "\n",
    "r=re.compile(\"[^가-힣]\") \n",
    "word_list = []\n",
    "\n",
    "for file in file_name:\n",
    "    file = os.path.join(dir_path,file)\n",
    "    with open(file,'r',encoding=\"utf-8\") as f:\n",
    "        xmlString = f.read()\n",
    "    jsonString = json.dumps(xmltodict.parse(xmlString,encoding=\"utf-8\"), indent=4,ensure_ascii=False)\n",
    "    \n",
    "    with open(\"xml_to_json.json\", 'w',encoding=\"UTF-8-sig\") as f:\n",
    "        f.write(jsonString)\n",
    "    f.close()\n",
    "    \n",
    "    with open('./xml_to_json.json','r',encoding=\"UTF-8-sig\") as json_file:\n",
    "        json_data = json.load(json_file)\n",
    "\n",
    "        \n",
    "    word_dict = json_data['channel']['item']\n",
    "\n",
    "    \n",
    "    for i in range(0,len(word_dict)):\n",
    "        word_list.append(word_dict[i]['word_info']['word'])\n",
    "        \n",
    "        \n",
    "        \n",
    "    \n",
    "\n",
    "for i in range(0,len(word_list)):\n",
    "    word_list[i] = re.sub(r,'',word_list[i])\n",
    "\n",
    "refine_word_list = list(set(word_list))\n",
    "\n",
    "print(len(refine_word_list))\n",
    "\n",
    "    "
   ]
  },
  {
   "cell_type": "code",
   "execution_count": 6,
   "id": "5b676529",
   "metadata": {},
   "outputs": [],
   "source": [
    "import tqdm"
   ]
  },
  {
   "cell_type": "code",
   "execution_count": null,
   "id": "1f7ee585",
   "metadata": {},
   "outputs": [],
   "source": []
  }
 ],
 "metadata": {
  "kernelspec": {
   "display_name": "Python 3",
   "language": "python",
   "name": "python3"
  },
  "language_info": {
   "codemirror_mode": {
    "name": "ipython",
    "version": 3
   },
   "file_extension": ".py",
   "mimetype": "text/x-python",
   "name": "python",
   "nbconvert_exporter": "python",
   "pygments_lexer": "ipython3",
   "version": "3.7.5"
  }
 },
 "nbformat": 4,
 "nbformat_minor": 5
}
